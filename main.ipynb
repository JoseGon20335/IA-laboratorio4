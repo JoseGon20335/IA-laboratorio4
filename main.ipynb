{
 "cells": [
  {
   "attachments": {},
   "cell_type": "markdown",
   "metadata": {},
   "source": [
    "## LABORATORIO 4\n",
    "\n",
    "Grupo # 7\n",
    "Jose Miguel Gonzalez y Gonzalez - 20335\n",
    "\n",
    "___\n",
    "\n",
    "## TASK 1\n",
    "\n",
    "Primero vamos a importar las librerias que vamos a utilizar para el laboratorio general."
   ]
  },
  {
   "cell_type": "code",
   "execution_count": 10,
   "metadata": {},
   "outputs": [],
   "source": [
    "import pandas as pd\n",
    "import numpy as np\n",
    "import matplotlib.pyplot as plt\n",
    "from sklearn.linear_model import LinearRegression\n",
    "from sklearn.preprocessing import PolynomialFeatures\n",
    "import random as rd"
   ]
  },
  {
   "attachments": {},
   "cell_type": "markdown",
   "metadata": {},
   "source": [
    "TASK 1.1\n",
    "\n",
    "Leer el archivo CSV proporcionado (kc_house_data.csv dentro de lab4_dataset.zip) y almacenarlo en un p.array para\n",
    "ser trabajado en el notebook.\n",
    "\n",
    "utilizamos pandas para poder leer el csv y luego lo pasamos a un numpy array en la variable de data y usarla."
   ]
  },
  {
   "cell_type": "code",
   "execution_count": 11,
   "metadata": {},
   "outputs": [
    {
     "name": "stdout",
     "output_type": "stream",
     "text": [
      "[[7129300520 '20141013T000000' 221900.0 ... -122.257 1340 5650]\n",
      " [6414100192 '20141209T000000' 538000.0 ... -122.319 1690 7639]\n",
      " [5631500400 '20150225T000000' 180000.0 ... -122.233 2720 8062]\n",
      " ...\n",
      " [1523300141 '20140623T000000' 402101.0 ... -122.299 1020 2007]\n",
      " [291310100 '20150116T000000' 400000.0 ... -122.069 1410 1287]\n",
      " [1523300157 '20141015T000000' 325000.0 ... -122.299 1020 1357]]\n"
     ]
    }
   ],
   "source": [
    "csvData = pd.read_csv('kc_house_data.csv')\n",
    "\n",
    "data = csvData.to_numpy()\n",
    "print(data)"
   ]
  },
  {
   "attachments": {},
   "cell_type": "markdown",
   "metadata": {},
   "source": [
    "Task 1.2\n",
    "\n",
    "Ajustar un modelo polinomial (regresión lineal) en base al juego de datos cargado de forma matricial que relaciona\n",
    "las variables de precio con los pies cuadrados del espacio habitable interior de los apartamentos (price - sqft living)\n",
    "\n",
    "Generamos la data tomando los datos del csvData, y pasamos los datos a un numpy array, y estos los usamos con la funcion de scatter que nos crea la siguiente tabla ahora generemos la linea de regresion linea. Esto lo haremos atravez de matrizes."
   ]
  },
  {
   "cell_type": "code",
   "execution_count": 12,
   "metadata": {},
   "outputs": [
    {
     "data": {
      "text/plain": [
       "<matplotlib.collections.PathCollection at 0x21d8f5f0880>"
      ]
     },
     "execution_count": 12,
     "metadata": {},
     "output_type": "execute_result"
    },
    {
     "data": {
      "image/png": "[encoded data removed]",
      "text/plain": [
       "<Figure size 432x288 with 1 Axes>"
      ]
     },
     "metadata": {
      "needs_background": "light"
     },
     "output_type": "display_data"
    }
   ],
   "source": [
    "price = csvData[\"price\"]\n",
    "sqft_living = csvData[\"sqft_living\"]\n",
    "\n",
    "y = price.to_numpy()\n",
    "x = sqft_living.to_numpy()\n",
    "\n",
    "plt.ylabel(\"Price\")\n",
    "plt.xlabel(\"Sqft_living\")\n",
    "plt.scatter(x, y, color=\"red\")"
   ]
  },
  {
   "attachments": {},
   "cell_type": "markdown",
   "metadata": {},
   "source": [
    "Creamos las matrizes que necesitamos para tratar el precio y el Sqft_living haciendo uso de numpy. Vamos a especificar el grado que vamos a utilizar. Luego de eso vamos a usar estas matrices, y vamos a pasar el rango de living. usando linspace, poniendo un maximo y un minimo con el array de x que sacamos antes y la predicion del precio usando array, usando los pesos aprendidos y los rangos."
   ]
  },
  {
   "cell_type": "code",
   "execution_count": 13,
   "metadata": {},
   "outputs": [],
   "source": [
    "grad = 1\n",
    "lenght = len(x)\n",
    "\n",
    "livingMatrix = np.array(\n",
    "        [[x[i] ** j \n",
    "            for j in range(0, grad+1)] \n",
    "                for i in range(lenght)\n",
    "        ]\n",
    "    )\n",
    "lilangLiving = np.linalg.inv(livingMatrix.T @ livingMatrix) @ livingMatrix.T @ y\n",
    "\n",
    "livingRange = np.linspace(np.min(x), np.max(x), 100)\n",
    "\n",
    "pricePrediction = np.array([lilangLiving @ np.array([livingRange[i] ** j for j in range(0, grad+1)]) for i in range(100)])"
   ]
  },
  {
   "cell_type": "code",
   "execution_count": 14,
   "metadata": {},
   "outputs": [
    {
     "data": {
      "image/png": "[encoded data removed]",
      "text/plain": [
       "<Figure size 432x288 with 1 Axes>"
      ]
     },
     "metadata": {
      "needs_background": "light"
     },
     "output_type": "display_data"
    }
   ],
   "source": [
    "plt.scatter(x, y, color=\"red\")\n",
    "plt.plot(livingRange, pricePrediction, color=\"blue\")\n",
    "plt.show()"
   ]
  },
  {
   "attachments": {},
   "cell_type": "markdown",
   "metadata": {},
   "source": [
    "Task 1.3\n",
    "\n",
    "Utilice la implementación vectorial del algoritmo de regresión lineal (descenso del gradiente visto en clase"
   ]
  },
  {
   "cell_type": "code",
   "execution_count": 15,
   "metadata": {},
   "outputs": [
    {
     "ename": "KeyboardInterrupt",
     "evalue": "",
     "output_type": "error",
     "traceback": [
      "\u001b[1;31m---------------------------------------------------------------------------\u001b[0m",
      "\u001b[1;31mKeyboardInterrupt\u001b[0m                         Traceback (most recent call last)",
      "\u001b[1;32mc:\\Users\\josem\\OneDrive\\Documents\\GitHub\\IA-laboratorio4\\main.ipynb Cell 11\u001b[0m in \u001b[0;36m<cell line: 5>\u001b[1;34m()\u001b[0m\n\u001b[0;32m      <a href='vscode-notebook-cell:/c%3A/Users/josem/OneDrive/Documents/GitHub/IA-laboratorio4/main.ipynb#X13sZmlsZQ%3D%3D?line=5'>6</a>\u001b[0m     y_pred \u001b[39m=\u001b[39m livingMatrix\u001b[39m.\u001b[39mdot(randomArray)\n\u001b[0;32m      <a href='vscode-notebook-cell:/c%3A/Users/josem/OneDrive/Documents/GitHub/IA-laboratorio4/main.ipynb#X13sZmlsZQ%3D%3D?line=6'>7</a>\u001b[0m     error \u001b[39m=\u001b[39m y_pred \u001b[39m-\u001b[39m pricePrediction\n\u001b[1;32m----> <a href='vscode-notebook-cell:/c%3A/Users/josem/OneDrive/Documents/GitHub/IA-laboratorio4/main.ipynb#X13sZmlsZQ%3D%3D?line=7'>8</a>\u001b[0m     loss \u001b[39m=\u001b[39m (\u001b[39m1\u001b[39m\u001b[39m/\u001b[39mlenght) \u001b[39m*\u001b[39m livingMatrix\u001b[39m.\u001b[39;49mT\u001b[39m.\u001b[39;49mdot(error)\n\u001b[0;32m      <a href='vscode-notebook-cell:/c%3A/Users/josem/OneDrive/Documents/GitHub/IA-laboratorio4/main.ipynb#X13sZmlsZQ%3D%3D?line=8'>9</a>\u001b[0m     randomArray \u001b[39m=\u001b[39m randomArray \u001b[39m-\u001b[39m (\u001b[39m0.000000001\u001b[39m \u001b[39m*\u001b[39m loss)\n\u001b[0;32m     <a href='vscode-notebook-cell:/c%3A/Users/josem/OneDrive/Documents/GitHub/IA-laboratorio4/main.ipynb#X13sZmlsZQ%3D%3D?line=10'>11</a>\u001b[0m \u001b[39m# Print final randomArrayeights and loss\u001b[39;00m\n",
      "\u001b[1;31mKeyboardInterrupt\u001b[0m: "
     ]
    }
   ],
   "source": [
    "random1 = rd.random()\n",
    "random2 = rd.random()\n",
    "livingRange = np.array([[random1], [random2]])\n",
    "\n",
    "learning_rate = 0.000000001\n",
    "num_iter = 10000\n",
    "\n",
    "for i in range(10000):\n",
    "    y_pred = livingMatrix.dot(livingRange)\n",
    "    error = y_pred - pricePrediction\n",
    "    loss = (1/lenght) * livingMatrix.T.dot(error)\n",
    "    livingRange = livingRange - (0.000000001 * loss)\n",
    "\n",
    "print(\"Pesos:\", livingRange)"
   ]
  }
 ],
 "metadata": {
  "kernelspec": {
   "display_name": "Python 3",
   "language": "python",
   "name": "python3"
  },
  "language_info": {
   "codemirror_mode": {
    "name": "ipython",
    "version": 3
   },
   "file_extension": ".py",
   "mimetype": "text/x-python",
   "name": "python",
   "nbconvert_exporter": "python",
   "pygments_lexer": "ipython3",
   "version": "3.10.2"
  },
  "orig_nbformat": 4,
  "vscode": {
   "interpreter": {
    "hash": "369f2c481f4da34e4445cda3fffd2e751bd1c4d706f27375911949ba6bb62e1c"
   }
  }
 },
 "nbformat": 4,
 "nbformat_minor": 2
}
